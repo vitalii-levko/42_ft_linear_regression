{
 "cells": [
  {
   "cell_type": "markdown",
   "metadata": {
    "colab_type": "text",
    "id": "257UQetl3DZn"
   },
   "source": [
    "# Linear Regression With One Variable"
   ]
  },
  {
   "cell_type": "markdown",
   "metadata": {
    "colab_type": "text",
    "id": "bi84hDL2bvMr"
   },
   "source": [
    "## Overview"
   ]
  },
  {
   "cell_type": "markdown",
   "metadata": {
    "colab_type": "text",
    "id": "_m5HnIKQ3DZw"
   },
   "source": [
    "**Linear Regression** is a method used to define a relationship between dependent and independent variables as follows:"
   ]
  },
  {
   "cell_type": "markdown",
   "metadata": {
    "colab_type": "text",
    "id": "ak85JLA5eU2Q"
   },
   "source": [
    "$y=\\theta_0+\\theta_1\\cdot{x}$"
   ]
  },
  {
   "cell_type": "markdown",
   "metadata": {
    "colab_type": "text",
    "id": "E2c4smg23DZ1"
   },
   "source": [
    "$y$ - dependent variable\\\n",
    "$x$ - independent variable\\\n",
    "$\\theta_0$ - bias coefficient\\\n",
    "$\\theta_1$ - scale factor or coefficient"
   ]
  },
  {
   "cell_type": "markdown",
   "metadata": {
    "colab_type": "text",
    "id": "KWdl0-RN7C1e"
   },
   "source": [
    "To find $x$ and $y$ to draw the line of best fit between them estimating their relationship, 2 different approaches are used - the **Gradient Descent** and the **Ordinary Least Mean Square Method**."
   ]
  },
  {
   "cell_type": "markdown",
   "metadata": {
    "colab_type": "text",
    "id": "0S8yb7AWgC8y"
   },
   "source": [
    "## Initialization"
   ]
  },
  {
   "cell_type": "markdown",
   "metadata": {
    "colab_type": "text",
    "id": "nylRdfBPiZ8W"
   },
   "source": [
    "Import dependencies"
   ]
  },
  {
   "cell_type": "code",
   "execution_count": 1,
   "metadata": {
    "colab": {},
    "colab_type": "code",
    "id": "N9wYTx2ngJ0z"
   },
   "outputs": [],
   "source": [
    "import pandas as pd\n",
    "import numpy as np\n",
    "import matplotlib.pyplot as plt\n",
    "from sklearn.linear_model import LinearRegression"
   ]
  },
  {
   "cell_type": "markdown",
   "metadata": {
    "colab_type": "text",
    "id": "QhwhdHZk3Dap"
   },
   "source": [
    "Explore dataset containing mileage and price of different cars"
   ]
  },
  {
   "cell_type": "code",
   "execution_count": 2,
   "metadata": {
    "colab": {
     "base_uri": "https://localhost:8080/",
     "height": 204
    },
    "colab_type": "code",
    "id": "ceDQyEy43Da8",
    "outputId": "71f8cf0b-0d68-4de7-8390-b4a6f70b1e5d",
    "scrolled": true
   },
   "outputs": [
    {
     "data": {
      "text/html": [
       "<div>\n",
       "<style scoped>\n",
       "    .dataframe tbody tr th:only-of-type {\n",
       "        vertical-align: middle;\n",
       "    }\n",
       "\n",
       "    .dataframe tbody tr th {\n",
       "        vertical-align: top;\n",
       "    }\n",
       "\n",
       "    .dataframe thead th {\n",
       "        text-align: right;\n",
       "    }\n",
       "</style>\n",
       "<table border=\"1\" class=\"dataframe\">\n",
       "  <thead>\n",
       "    <tr style=\"text-align: right;\">\n",
       "      <th></th>\n",
       "      <th>km</th>\n",
       "      <th>price</th>\n",
       "    </tr>\n",
       "  </thead>\n",
       "  <tbody>\n",
       "    <tr>\n",
       "      <th>0</th>\n",
       "      <td>240000</td>\n",
       "      <td>3650</td>\n",
       "    </tr>\n",
       "    <tr>\n",
       "      <th>1</th>\n",
       "      <td>139800</td>\n",
       "      <td>3800</td>\n",
       "    </tr>\n",
       "    <tr>\n",
       "      <th>2</th>\n",
       "      <td>150500</td>\n",
       "      <td>4400</td>\n",
       "    </tr>\n",
       "    <tr>\n",
       "      <th>3</th>\n",
       "      <td>185530</td>\n",
       "      <td>4450</td>\n",
       "    </tr>\n",
       "    <tr>\n",
       "      <th>4</th>\n",
       "      <td>176000</td>\n",
       "      <td>5250</td>\n",
       "    </tr>\n",
       "  </tbody>\n",
       "</table>\n",
       "</div>"
      ],
      "text/plain": [
       "       km  price\n",
       "0  240000   3650\n",
       "1  139800   3800\n",
       "2  150500   4400\n",
       "3  185530   4450\n",
       "4  176000   5250"
      ]
     },
     "execution_count": 2,
     "metadata": {},
     "output_type": "execute_result"
    }
   ],
   "source": [
    "df = pd.read_csv('data.csv')\n",
    "df.head()"
   ]
  },
  {
   "cell_type": "code",
   "execution_count": 3,
   "metadata": {
    "colab": {
     "base_uri": "https://localhost:8080/",
     "height": 34
    },
    "colab_type": "code",
    "id": "QN2zS-DZ8kjl",
    "outputId": "9f534748-0636-419c-b1c4-044303eb9cdd"
   },
   "outputs": [
    {
     "data": {
      "text/plain": [
       "(24, 2)"
      ]
     },
     "execution_count": 3,
     "metadata": {},
     "output_type": "execute_result"
    }
   ],
   "source": [
    "df.shape"
   ]
  },
  {
   "cell_type": "markdown",
   "metadata": {
    "colab_type": "text",
    "id": "TgPnsPjx74oy"
   },
   "source": [
    "Define initial variables"
   ]
  },
  {
   "cell_type": "code",
   "execution_count": 4,
   "metadata": {
    "colab": {},
    "colab_type": "code",
    "id": "Wp1kbt-S3Dbh"
   },
   "outputs": [],
   "source": [
    "x = df.km\n",
    "y = df.price\n",
    "m = df.shape[0]"
   ]
  },
  {
   "cell_type": "markdown",
   "metadata": {
    "colab_type": "text",
    "id": "2Iyk1oZg3Dhf"
   },
   "source": [
    "## Gradient Descent"
   ]
  },
  {
   "cell_type": "markdown",
   "metadata": {
    "colab_type": "text",
    "id": "38dW4wR-eCKI"
   },
   "source": [
    "Normalize dataset with min-max scaling"
   ]
  },
  {
   "cell_type": "code",
   "execution_count": 5,
   "metadata": {
    "colab": {},
    "colab_type": "code",
    "id": "iMmpSqRf5x0c"
   },
   "outputs": [],
   "source": [
    "x_scaled = (x-min(x))/(max(x)-min(x))\n",
    "y_scaled = (y-min(y))/(max(y)-min(y))"
   ]
  },
  {
   "cell_type": "markdown",
   "metadata": {
    "colab_type": "text",
    "id": "UlXII3JHew_J"
   },
   "source": [
    "Create linear regression with gradient descent algorithm"
   ]
  },
  {
   "cell_type": "code",
   "execution_count": 6,
   "metadata": {
    "colab": {},
    "colab_type": "code",
    "id": "5wSgeJMx3DiM"
   },
   "outputs": [],
   "source": [
    "def linear_regression(x, y, m, theta0, theta1, alpha, epoch, plot_result=False, print_cost=False):\n",
    "    m = float(m)\n",
    "    for i in range(epoch):\n",
    "        y_predicted = theta0 + theta1 * x\n",
    "        y_difference = y_predicted - y\n",
    "        if print_cost:\n",
    "            cost = sum(y_difference ** 2) / (2 * m)\n",
    "        tmp_theta0 = alpha * sum(y_difference) / m\n",
    "        tmp_theta1 = alpha * sum(y_difference * x) / m\n",
    "        theta0 -= tmp_theta0\n",
    "        theta1 -= tmp_theta1\n",
    "        if print_cost:\n",
    "            print(cost)\n",
    "    if plot_result:\n",
    "        y_predicted = theta0 + theta1 * x\n",
    "        plt.ylabel('price')\n",
    "        plt.xlabel('mileage (km)')\n",
    "        plt.scatter(x, y, label='data point')\n",
    "        plt.plot(x, y_predicted, label='linear regression')\n",
    "        plt.legend()\n",
    "        plt.show()\n",
    "    return theta0, theta1"
   ]
  },
  {
   "cell_type": "markdown",
   "metadata": {
    "colab_type": "text",
    "id": "jQdcYpqCfC4X"
   },
   "source": [
    "Train weights with linear regression"
   ]
  },
  {
   "cell_type": "code",
   "execution_count": 7,
   "metadata": {
    "colab": {
     "base_uri": "https://localhost:8080/",
     "height": 279
    },
    "colab_type": "code",
    "id": "kydtyG4g3Did",
    "outputId": "9eeec0e2-362b-419c-9a08-f885dbe62e4a",
    "scrolled": true
   },
   "outputs": [
    {
     "data": {
      "image/png": "[encoded data removed]",
      "text/plain": [
       "<Figure size 432x288 with 1 Axes>"
      ]
     },
     "metadata": {
      "needs_background": "light"
     },
     "output_type": "display_data"
    }
   ],
   "source": [
    "theta0, theta1 = linear_regression(x_scaled, y_scaled, m, 0, 0, 1.7, 1000, True)"
   ]
  },
  {
   "cell_type": "markdown",
   "metadata": {
    "colab_type": "text",
    "id": "xK3jveNDdb8q"
   },
   "source": [
    "Unscale theta0 and theta1"
   ]
  },
  {
   "cell_type": "code",
   "execution_count": 8,
   "metadata": {
    "colab": {
     "base_uri": "https://localhost:8080/",
     "height": 34
    },
    "colab_type": "code",
    "id": "gkIDAyQp3DjO",
    "outputId": "c0540e4e-1fff-4868-e2e0-4c07d3eb1bf5"
   },
   "outputs": [
    {
     "data": {
      "text/plain": [
       "(8499.599649933212, -0.021448963591702314)"
      ]
     },
     "execution_count": 8,
     "metadata": {},
     "output_type": "execute_result"
    }
   ],
   "source": [
    "theta0 = theta0*(max(y)-min(y)) + min(y) + (theta1*min(x)*(min(y)-max(y)))/(max(x)-min(x))\n",
    "theta1 = theta1*(max(y)-min(y)) / (max(x)-min(x))\n",
    "theta0, theta1"
   ]
  },
  {
   "cell_type": "markdown",
   "metadata": {
    "colab_type": "text",
    "id": "UeETyS95jPnt"
   },
   "source": [
    "Predict price using trained weights"
   ]
  },
  {
   "cell_type": "code",
   "execution_count": 9,
   "metadata": {
    "colab": {},
    "colab_type": "code",
    "id": "7UK0ReetjLRC"
   },
   "outputs": [],
   "source": [
    "price_predicted = theta0 + theta1 * x"
   ]
  },
  {
   "cell_type": "markdown",
   "metadata": {
    "colab_type": "text",
    "id": "Lob2IEhI3Dts"
   },
   "source": [
    "Some of the most popular cost (loss or error) functions:\n",
    "* Sum of Squared Residuals (SSR/SSE)\n",
    "* Mean Squared Error (MSE)\n",
    "* Root Mean Squared Error (RMSE)"
   ]
  },
  {
   "cell_type": "markdown",
   "metadata": {
    "colab_type": "text",
    "id": "KMvDJaVa3DZ3"
   },
   "source": [
    "## Ordinary Least Mean Square method"
   ]
  },
  {
   "cell_type": "markdown",
   "metadata": {
    "colab_type": "text",
    "id": "X5MD1OlR3DZ8"
   },
   "source": [
    "The line is the best fit that passes through most of the scatter points and also reduces error which is the distance from the point to the line itself:"
   ]
  },
  {
   "cell_type": "markdown",
   "metadata": {
    "colab_type": "text",
    "id": "-sNleh7g3DaA"
   },
   "source": [
    "![image.png](data:image/png;base64,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)"
   ]
  },
  {
   "cell_type": "markdown",
   "metadata": {
    "colab_type": "text",
    "id": "A-09ZG_R3DaC"
   },
   "source": [
    "The total error of the linear model is the sum of the error of each point, squared due to some points would be above the line and some below:"
   ]
  },
  {
   "cell_type": "markdown",
   "metadata": {
    "colab_type": "text",
    "id": "feDpVw8OgUIb"
   },
   "source": [
    "$\\sum\\limits_{i=1}^n r_i^2$"
   ]
  },
  {
   "cell_type": "markdown",
   "metadata": {
    "colab_type": "text",
    "id": "U2DFZJnM3DaH"
   },
   "source": [
    "$r_{i}$ - distance between the line and $i$*-th* point\\\n",
    "$n$ - total number of points"
   ]
  },
  {
   "cell_type": "markdown",
   "metadata": {
    "colab_type": "text",
    "id": "aHi6n2F-3DaM"
   },
   "source": [
    "Minimize the error of the linear model by minimizing $r$:"
   ]
  },
  {
   "cell_type": "markdown",
   "metadata": {
    "colab_type": "text",
    "id": "JUKVqPWwgydj"
   },
   "source": [
    "$\\theta_1=\\frac{\\sum\\limits_{i=1}^n(x_i-\\bar{x})\\cdot(y_i-\\bar{y})}{\\sum\\limits_{i=1}^n(x_i-\\bar{x})^2}$\\\n",
    "$\\theta_0=\\bar{y}-\\theta_1\\cdot\\bar{x}$"
   ]
  },
  {
   "cell_type": "markdown",
   "metadata": {
    "colab_type": "text",
    "id": "HX2QL64z3Daj"
   },
   "source": [
    "$\\bar{x}$ - mean of the input variable $x$\\\n",
    "$\\bar{y}$ - mean of the output variable $y$"
   ]
  },
  {
   "cell_type": "markdown",
   "metadata": {
    "colab_type": "text",
    "id": "l9tuv9N43Dal"
   },
   "source": [
    "This says that the slope is the sum of deviation cross products divided by the sum of squares for $x$."
   ]
  },
  {
   "cell_type": "code",
   "execution_count": 10,
   "metadata": {
    "colab": {
     "base_uri": "https://localhost:8080/",
     "height": 34
    },
    "colab_type": "code",
    "id": "maeLksnV3DcX",
    "outputId": "3ee99347-d364-4bff-ca58-1b96fc7edd86"
   },
   "outputs": [
    {
     "data": {
      "text/plain": [
       "(8499.599649933216, -0.0214489635917023)"
      ]
     },
     "execution_count": 10,
     "metadata": {},
     "output_type": "execute_result"
    }
   ],
   "source": [
    "numerator = 0\n",
    "denominator = 0\n",
    "x_mean = np.mean(x)\n",
    "y_mean = np.mean(y)\n",
    "for i in range(len(x)):\n",
    "    numerator += (x[i] - x_mean) * (y[i] - y_mean)\n",
    "    denominator += (x[i] - x_mean) ** 2    \n",
    "theta1 = numerator / denominator\n",
    "theta0 = y_mean - (theta1 * x_mean)\n",
    "price_predicted = theta0 + theta1 * x\n",
    "theta0, theta1"
   ]
  },
  {
   "cell_type": "markdown",
   "metadata": {
    "colab_type": "text",
    "id": "eA24rr2G3Dev"
   },
   "source": [
    "## Scikit-learn library solution"
   ]
  },
  {
   "cell_type": "code",
   "execution_count": 11,
   "metadata": {
    "colab": {
     "base_uri": "https://localhost:8080/",
     "height": 34
    },
    "colab_type": "code",
    "id": "WaxmCbUN3DgD",
    "outputId": "251a7dac-8205-40fe-dfa4-ee07dfa456d3"
   },
   "outputs": [
    {
     "data": {
      "text/plain": [
       "(8499.599649933216, -0.0214489635917023)"
      ]
     },
     "execution_count": 11,
     "metadata": {},
     "output_type": "execute_result"
    }
   ],
   "source": [
    "regression = LinearRegression()\n",
    "regression.fit(df[['km']], y)\n",
    "price_predicted = regression.predict(df[['km']])\n",
    "theta0 = regression.intercept_\n",
    "theta1 = regression.coef_[0]\n",
    "theta0, theta1"
   ]
  },
  {
   "cell_type": "markdown",
   "metadata": {
    "colab_type": "text",
    "id": "pgJ3Avnh3DgM"
   },
   "source": [
    "## Plotting predicted model"
   ]
  },
  {
   "cell_type": "code",
   "execution_count": 12,
   "metadata": {
    "colab": {
     "base_uri": "https://localhost:8080/",
     "height": 284
    },
    "colab_type": "code",
    "id": "QTIODYBg3Dga",
    "outputId": "ea832a1c-05fc-401f-ed3f-07d6809d3da5",
    "scrolled": true
   },
   "outputs": [
    {
     "data": {
      "image/png": "[encoded data removed]",
      "text/plain": [
       "<Figure size 432x288 with 1 Axes>"
      ]
     },
     "metadata": {
      "needs_background": "light"
     },
     "output_type": "display_data"
    }
   ],
   "source": [
    "plt.ylabel('price', fontsize=16)\n",
    "plt.xlabel('mileage (km)', fontsize=16)\n",
    "plt.scatter(x, y, color='green', marker='+', label='Data Point')\n",
    "plt.plot(x, price_predicted, color='red', label='Linear Regression')\n",
    "plt.legend()\n",
    "plt.show()"
   ]
  },
  {
   "cell_type": "markdown",
   "metadata": {
    "colab_type": "text",
    "id": "nJfIMa2y3Dgn"
   },
   "source": [
    "## Measuring model accuracy"
   ]
  },
  {
   "cell_type": "markdown",
   "metadata": {
    "colab_type": "text",
    "id": "5e-eHcap3Dc9"
   },
   "source": [
    "**Root Mean Squared Error** method uses the square root of the sum of all errors divided by the number of values:"
   ]
  },
  {
   "cell_type": "markdown",
   "metadata": {
    "colab_type": "text",
    "id": "jP01yMl1ybNM"
   },
   "source": [
    "$RMSE=\\sqrt{\\frac{1}{n}\\cdot\\sum\\limits_{j=1}^n(y_j-\\hat{y}_j)^2}$"
   ]
  },
  {
   "cell_type": "markdown",
   "metadata": {
    "colab_type": "text",
    "id": "tiHLgoHC3DdA"
   },
   "source": [
    " $\\hat{y_{j}}$ - $i$*-th* predicted output value"
   ]
  },
  {
   "cell_type": "code",
   "execution_count": 13,
   "metadata": {
    "colab": {
     "base_uri": "https://localhost:8080/",
     "height": 34
    },
    "colab_type": "code",
    "id": "4Zqb42eGwW5X",
    "outputId": "2cc939cb-154a-41fa-f82a-60a00df9ddc9"
   },
   "outputs": [
    {
     "data": {
      "text/plain": [
       "667.5666596462659"
      ]
     },
     "execution_count": 13,
     "metadata": {},
     "output_type": "execute_result"
    }
   ],
   "source": [
    "rmse = 0\n",
    "for i in range(len(x)):\n",
    "    y_pred = theta0 + theta1 * x[i]\n",
    "    rmse += (y[i] - y_pred) ** 2\n",
    "rmse = np.sqrt(rmse / len(x))\n",
    "rmse"
   ]
  },
  {
   "cell_type": "markdown",
   "metadata": {
    "colab_type": "text",
    "id": "NmecgOvc3DeB"
   },
   "source": [
    "**Coefficient of Determination ($R^{2}$ Score)** method usually ranges from 0 to 1, or become negative if the model is completely wrong:"
   ]
  },
  {
   "cell_type": "markdown",
   "metadata": {
    "colab_type": "text",
    "id": "WC7E8y0k0kmq"
   },
   "source": [
    "$R^2=\\frac{SSR}{SST}=\\frac{\\sum(\\hat{y}_i-\\bar{y})^2}{\\sum(y_i-\\bar{y})^2}$"
   ]
  },
  {
   "cell_type": "markdown",
   "metadata": {
    "colab_type": "text",
    "id": "ZKDemVPz3DeH"
   },
   "source": [
    "$SST$ - total sum of squares\\\n",
    "$SSR$ - total sum of squares of residuals (Sum of Squared Residuals)"
   ]
  },
  {
   "cell_type": "code",
   "execution_count": 14,
   "metadata": {
    "colab": {
     "base_uri": "https://localhost:8080/",
     "height": 34
    },
    "colab_type": "code",
    "id": "D6MCKP4ciGF8",
    "outputId": "f772607d-4979-4c9d-8f4c-6695b86ad643"
   },
   "outputs": [
    {
     "data": {
      "text/plain": [
       "0.7329747078314965"
      ]
     },
     "execution_count": 14,
     "metadata": {},
     "output_type": "execute_result"
    }
   ],
   "source": [
    "sum_of_squares = 0\n",
    "sum_of_residuals = 0\n",
    "y_mean = np.mean(y)\n",
    "for i in range(len(x)) :\n",
    "    y_pred = theta0 + theta1 * x[i]\n",
    "    sum_of_squares += (y[i] - y_mean) ** 2\n",
    "    sum_of_residuals += (y[i] - y_pred) ** 2    \n",
    "score  = 1 - (sum_of_residuals/sum_of_squares)\n",
    "score"
   ]
  },
  {
   "cell_type": "markdown",
   "metadata": {
    "colab_type": "text",
    "id": "xWvSctP13Det"
   },
   "source": [
    "The score can be improved by getting more datasets, improving the features, fit many models, etc."
   ]
  }
 ],
 "metadata": {
  "colab": {
   "collapsed_sections": [
    "kybB1sdf3Dan",
    "d3XWcJfH3Dbe",
    "kSjnviHh3Dct",
    "Je4dw9f53Dc8",
    "eA24rr2G3Dev",
    "mtT5_ncU3Dex",
    "pgJ3Avnh3DgM",
    "nJfIMa2y3Dgn",
    "2Iyk1oZg3Dhf",
    "i6lGzB3u3DwQ"
   ],
   "name": "ft_linear_regression.ipynb",
   "provenance": []
  },
  "kernelspec": {
   "display_name": "Python 3",
   "language": "python",
   "name": "python3"
  },
  "language_info": {
   "codemirror_mode": {
    "name": "ipython",
    "version": 3
   },
   "file_extension": ".py",
   "mimetype": "text/x-python",
   "name": "python",
   "nbconvert_exporter": "python",
   "pygments_lexer": "ipython3",
   "version": "3.6.9"
  }
 },
 "nbformat": 4,
 "nbformat_minor": 1
}
